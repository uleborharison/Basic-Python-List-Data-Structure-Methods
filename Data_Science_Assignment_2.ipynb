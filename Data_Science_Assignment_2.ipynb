{
 "cells": [
  {
   "cell_type": "markdown",
   "id": "45a93800-124f-43d6-8026-91bde15a24e0",
   "metadata": {
    "id": "45a93800-124f-43d6-8026-91bde15a24e0"
   },
   "source": [
    "<h1>Data Science Assignment 2 on List Data Structure Methods</h1>"
   ]
  },
  {
   "cell_type": "raw",
   "id": "eba3c704-2cb6-451e-bbda-a55d0fa6c78c",
   "metadata": {
    "id": "eba3c704-2cb6-451e-bbda-a55d0fa6c78c"
   },
   "source": [
    "<p>Data Structure is the collection and organization of data for accessing, retrieving, and storing data.\n",
    "The list data structure is a collection of data that is ordered, mutable, and accept duplicates</p>"
   ]
  },
  {
   "cell_type": "markdown",
   "id": "3ad18d9d-8984-4162-b7cf-e30287ca8da3",
   "metadata": {
    "id": "3ad18d9d-8984-4162-b7cf-e30287ca8da3"
   },
   "source": [
    "<h3 style=\"color: blue\">append method</h3>"
   ]
  },
  {
   "cell_type": "code",
   "execution_count": 7,
   "id": "70258560",
   "metadata": {
    "colab": {
     "base_uri": "https://localhost:8080/"
    },
    "id": "70258560",
    "outputId": "a32e3058-5ebf-4e95-9dad-25d62e5426d3"
   },
   "outputs": [
    {
     "data": {
      "text/plain": [
       "['Lagos', 'Awka', 'Enugu']"
      ]
     },
     "execution_count": 7,
     "metadata": {},
     "output_type": "execute_result"
    }
   ],
   "source": [
    "cities = ['Lagos', 'Awka']\n",
    "# Append method is used in adding an item to a list, it only accepts one item at a time (it takes in only one argument)\n",
    "#It appends the new item to the end of the list\n",
    "cities.append('Enugu')    # Adding a city called Enugu to the list using the append method\n",
    "cities"
   ]
  },
  {
   "cell_type": "code",
   "execution_count": null,
   "id": "ea85e945",
   "metadata": {
    "id": "ea85e945"
   },
   "outputs": [],
   "source": [
    "cities.append('Uyo') # Adding a city called Uyo to the list using the append method\n",
    "# calling the variable that stores the list item\n",
    "cities"
   ]
  },
  {
   "cell_type": "code",
   "execution_count": null,
   "id": "7a4cd617",
   "metadata": {
    "id": "7a4cd617"
   },
   "outputs": [],
   "source": [
    "cities.append('London') # Adding a city called Uyo to the list using the append method\n",
    "cities"
   ]
  },
  {
   "cell_type": "code",
   "execution_count": null,
   "id": "e89a878e-4783-4dc6-9ab7-3baf6dab1c79",
   "metadata": {
    "id": "e89a878e-4783-4dc6-9ab7-3baf6dab1c79"
   },
   "outputs": [],
   "source": [
    "cities.append('Paris') # Adding a city called Paris to the list using the append method\n",
    "cities"
   ]
  },
  {
   "cell_type": "code",
   "execution_count": null,
   "id": "68d6fb36-54f4-44e0-99dc-2d5f7e449569",
   "metadata": {
    "id": "68d6fb36-54f4-44e0-99dc-2d5f7e449569"
   },
   "outputs": [],
   "source": [
    "cities.append('Tokyo') # Adding a city called Tokyo to the list using the append method\n",
    "cities"
   ]
  },
  {
   "cell_type": "code",
   "execution_count": null,
   "id": "be1df2e1-11b2-45d0-83b9-ac728f84d3ba",
   "metadata": {
    "id": "be1df2e1-11b2-45d0-83b9-ac728f84d3ba"
   },
   "outputs": [],
   "source": [
    "cities.append('California') # Adding a city called California to the list using the append method\n",
    "cities"
   ]
  },
  {
   "cell_type": "code",
   "execution_count": null,
   "id": "3e09a840-78e8-4367-81b1-e3dc7d70f52e",
   "metadata": {
    "id": "3e09a840-78e8-4367-81b1-e3dc7d70f52e"
   },
   "outputs": [],
   "source": [
    "cities.append('Mumbai') # Adding a city called Mumbai to the list using the append method\n",
    "cities"
   ]
  },
  {
   "cell_type": "code",
   "execution_count": null,
   "id": "7cb2c689-504f-4018-ac5e-d3014ccfa230",
   "metadata": {
    "id": "7cb2c689-504f-4018-ac5e-d3014ccfa230"
   },
   "outputs": [],
   "source": [
    "cities.append('Beijing') # Adding a city called Beijing to the list using the append method\n",
    "cities"
   ]
  },
  {
   "cell_type": "code",
   "execution_count": null,
   "id": "70addd48-2123-4663-ba29-38397ff57fb7",
   "metadata": {
    "id": "70addd48-2123-4663-ba29-38397ff57fb7"
   },
   "outputs": [],
   "source": [
    "cities.append('Ohio') # Adding a city called Ohio to the list using the append method\n",
    "cities"
   ]
  },
  {
   "cell_type": "code",
   "execution_count": null,
   "id": "799737cc-8a9e-4952-bd5f-7379d505bc1a",
   "metadata": {
    "id": "799737cc-8a9e-4952-bd5f-7379d505bc1a"
   },
   "outputs": [],
   "source": [
    "cities.append('Toronto') # Adding a city called Toronto to the list using the append method\n",
    "cities"
   ]
  },
  {
   "cell_type": "code",
   "execution_count": null,
   "id": "d9f804ec-ff75-43d1-8111-8791cfbc80b3",
   "metadata": {
    "id": "d9f804ec-ff75-43d1-8111-8791cfbc80b3"
   },
   "outputs": [],
   "source": [
    "cities_using_append = cities.copy() # We will use this variable named cities_using_append to store the result obtained from carrying out the append method in adding items to a list"
   ]
  },
  {
   "cell_type": "markdown",
   "id": "4b8aa40c-ef48-47dd-8301-84e497abe281",
   "metadata": {
    "id": "4b8aa40c-ef48-47dd-8301-84e497abe281"
   },
   "source": [
    "<h3 style=\"color: blue\">insert method</h3>"
   ]
  },
  {
   "cell_type": "code",
   "execution_count": null,
   "id": "004c1768-f961-4517-acae-53d41ea5c49a",
   "metadata": {
    "id": "004c1768-f961-4517-acae-53d41ea5c49a"
   },
   "outputs": [],
   "source": [
    "cities\n",
    "# Append method is used in adding an item to a list, it only accepts one item at a time,(but it takes in two (2) arguments, the first argument indicates the index where the new item will be located and the second item takes the item to be added. i.e, it takes in location and item), whenever an item is added @ an index, the item after new added item will get a new index new, as the location initially occupied is taken over by another item\n",
    "cities.insert(2, 'Berlin')    # Adding a city called Berlin to the list @ index 2 using the insert method\n",
    "cities"
   ]
  },
  {
   "cell_type": "code",
   "execution_count": null,
   "id": "4d048e52-4a97-405d-ab76-4c24997bc209",
   "metadata": {
    "id": "4d048e52-4a97-405d-ab76-4c24997bc209",
    "scrolled": true
   },
   "outputs": [],
   "source": [
    "cities.insert(3, 'Manila')    # Adding a city called Manila to the list @ index 3 using the insert method\n",
    "cities"
   ]
  },
  {
   "cell_type": "code",
   "execution_count": null,
   "id": "a42f72a8-0bb8-4ef1-97af-4fa7feaca005",
   "metadata": {
    "id": "a42f72a8-0bb8-4ef1-97af-4fa7feaca005"
   },
   "outputs": [],
   "source": [
    "cities.insert(4, 'Cairo')    # Adding a city called Cairo to the list @ index 4 using the insert method\n",
    "cities"
   ]
  },
  {
   "cell_type": "code",
   "execution_count": null,
   "id": "e4657d8a-3bbc-4f8d-9300-93afc488a081",
   "metadata": {
    "id": "e4657d8a-3bbc-4f8d-9300-93afc488a081"
   },
   "outputs": [],
   "source": [
    "cities.insert(6, 'Bangkok')    # Adding a city called Bangkok to the list @ index 6 using the insert method\n",
    "cities"
   ]
  },
  {
   "cell_type": "code",
   "execution_count": null,
   "id": "2f189ba2-df54-44a3-91ba-192cecadce25",
   "metadata": {
    "id": "2f189ba2-df54-44a3-91ba-192cecadce25"
   },
   "outputs": [],
   "source": [
    "cities.insert(7, 'Moscow')    # Adding a city called Moscow to the list @ index 7 using the insert method\n",
    "cities"
   ]
  },
  {
   "cell_type": "code",
   "execution_count": null,
   "id": "7e880d33-4fdd-4dce-ac36-9e62f68089f6",
   "metadata": {
    "id": "7e880d33-4fdd-4dce-ac36-9e62f68089f6"
   },
   "outputs": [],
   "source": [
    "cities.insert(1, 'Barcelona')    # Adding a city called Barcelona to the list @ index 1 using the insert method\n",
    "cities"
   ]
  },
  {
   "cell_type": "code",
   "execution_count": null,
   "id": "43a6cbf2-ad0d-48d1-8b74-1bab1e71f373",
   "metadata": {
    "id": "43a6cbf2-ad0d-48d1-8b74-1bab1e71f373"
   },
   "outputs": [],
   "source": [
    "cities.insert(0, 'Rome')    # Adding a city called Rome to the list @ index 0 using the insert method\n",
    "cities"
   ]
  },
  {
   "cell_type": "code",
   "execution_count": null,
   "id": "420318c4-4cab-458d-aacb-701fbeab7095",
   "metadata": {
    "id": "420318c4-4cab-458d-aacb-701fbeab7095"
   },
   "outputs": [],
   "source": [
    "cities.insert(9, 'Madrid')    # Adding a city called Madrid to the list @ index 9 using the insert method\n",
    "cities"
   ]
  },
  {
   "cell_type": "code",
   "execution_count": null,
   "id": "40841bd7-cd05-49fa-8e1b-7670f21e5e7d",
   "metadata": {
    "id": "40841bd7-cd05-49fa-8e1b-7670f21e5e7d"
   },
   "outputs": [],
   "source": [
    "cities.insert(7, 'Kolkata')    # Adding a city called Kolkata to the list @ index 7 using the insert method\n",
    "cities"
   ]
  },
  {
   "cell_type": "code",
   "execution_count": null,
   "id": "8c3bd115-02eb-4334-8a89-87075c72705e",
   "metadata": {
    "id": "8c3bd115-02eb-4334-8a89-87075c72705e",
    "scrolled": true
   },
   "outputs": [],
   "source": [
    "cities.insert(5, 'Asaba')    # Adding a city called Asaba to the list @ index 5 using the insert method\n",
    "cities"
   ]
  },
  {
   "cell_type": "code",
   "execution_count": 8,
   "id": "4a3469b4-57a2-4b28-b978-cec96bfde037",
   "metadata": {
    "id": "4a3469b4-57a2-4b28-b978-cec96bfde037"
   },
   "outputs": [],
   "source": [
    "cities_using_insert = cities.copy() # We will use this variable named cities_using_insert to store the result obtained from carrying out the insert method in adding items to a list"
   ]
  },
  {
   "cell_type": "markdown",
   "id": "a13dee00-1ff6-40b8-82bb-ec4e43b9ad46",
   "metadata": {
    "id": "a13dee00-1ff6-40b8-82bb-ec4e43b9ad46"
   },
   "source": [
    "<h3 style=\"color: blue\">extend method</h3>"
   ]
  },
  {
   "cell_type": "code",
   "execution_count": null,
   "id": "5954a194-7a8c-40a1-ab30-dca7f2c048e4",
   "metadata": {
    "id": "5954a194-7a8c-40a1-ab30-dca7f2c048e4"
   },
   "outputs": [],
   "source": [
    "#cities\n",
    "# extend method is used in adding data structure items in a list, it accepts one data structure(list,tuple, set, and dictionay) at a time, also a list can be added to a list using the extend method.\n",
    "#It appends the new item to the end of the list\n",
    "new_cities = ['Jos','Calabar'] # Adding a list of cities\n",
    "cities.extend(new_cities)\n",
    "cities"
   ]
  },
  {
   "cell_type": "code",
   "execution_count": null,
   "id": "d1GCWn1Bq6PM",
   "metadata": {
    "id": "d1GCWn1Bq6PM"
   },
   "outputs": [],
   "source": [
    "new_tuple = ('Warri','Abakaliki') #Adding a tuple with cities item\n",
    "cities.extend(new_tuple)\n",
    "cities"
   ]
  },
  {
   "cell_type": "code",
   "execution_count": null,
   "id": "KcbVk82nq6gp",
   "metadata": {
    "id": "KcbVk82nq6gp"
   },
   "outputs": [],
   "source": [
    "new_set = {'Abuja', 'Kano'} # Adding a set of cities\n",
    "cities.extend(new_set)\n",
    "cities"
   ]
  },
  {
   "cell_type": "code",
   "execution_count": null,
   "id": "hgFZfdi4q6ox",
   "metadata": {
    "id": "hgFZfdi4q6ox"
   },
   "outputs": [],
   "source": [
    "cities.extend(['New York', 'Los Angeles']) # Adding a list of cities\n",
    "cities"
   ]
  },
  {
   "cell_type": "code",
   "execution_count": null,
   "id": "DC5t9JaHq6wG",
   "metadata": {
    "id": "DC5t9JaHq6wG"
   },
   "outputs": [],
   "source": []
  },
  {
   "cell_type": "code",
   "execution_count": null,
   "id": "GKbOH-7mq8hT",
   "metadata": {
    "id": "GKbOH-7mq8hT"
   },
   "outputs": [],
   "source": [
    "cities.extend(['Seoul', 'Dhaka'])\n",
    "cities"
   ]
  },
  {
   "cell_type": "code",
   "execution_count": null,
   "id": "MfasL4SGq8uq",
   "metadata": {
    "id": "MfasL4SGq8uq"
   },
   "outputs": [],
   "source": [
    "cities.extend(['Lafia', 'Benin', 'Younde'])\n",
    "cities"
   ]
  },
  {
   "cell_type": "code",
   "execution_count": null,
   "id": "LNNYVkKGq86i",
   "metadata": {
    "id": "LNNYVkKGq86i"
   },
   "outputs": [],
   "source": [
    "cities.extend(('Osaka', 'Lima'))\n",
    "cities"
   ]
  },
  {
   "cell_type": "code",
   "execution_count": null,
   "id": "5W_I75jGq9DY",
   "metadata": {
    "id": "5W_I75jGq9DY"
   },
   "outputs": [],
   "source": [
    "cities.extend({'Karachi', 'Santiago'})\n",
    "cities"
   ]
  },
  {
   "cell_type": "code",
   "execution_count": null,
   "id": "fc58a0a6-d0d9-4e4d-8115-e502e835f157",
   "metadata": {
    "id": "fc58a0a6-d0d9-4e4d-8115-e502e835f157"
   },
   "outputs": [],
   "source": [
    "cities.extend({'Karachi', 'Santiago'})\n",
    "cities"
   ]
  },
  {
   "cell_type": "markdown",
   "id": "a043dd7b-3e5a-48bf-b561-e9bef8d5e911",
   "metadata": {
    "id": "a043dd7b-3e5a-48bf-b561-e9bef8d5e911"
   },
   "source": [
    "<h3 style=\"color: blue\">slice [:] method</h3>"
   ]
  },
  {
   "cell_type": "code",
   "execution_count": null,
   "id": "b078a347-3179-433a-a7a5-cd8a60158007",
   "metadata": {
    "id": "b078a347-3179-433a-a7a5-cd8a60158007"
   },
   "outputs": [],
   "source": [
    "# The slice symbol is used to retrieve and modify an item, it takes the number before\n",
    "cities[2:5] # Retrieval of item"
   ]
  },
  {
   "cell_type": "code",
   "execution_count": null,
   "id": "0e7d2b75-b59b-4a90-b172-a2a4a4add338",
   "metadata": {
    "id": "0e7d2b75-b59b-4a90-b172-a2a4a4add338"
   },
   "outputs": [],
   "source": [
    "cities[2:5] = ['Bauchi', 'Oshogbo','Akure']   # Modifying of item\n",
    "cities"
   ]
  },
  {
   "cell_type": "code",
   "execution_count": null,
   "id": "pjwbCBvtHFFc",
   "metadata": {
    "id": "pjwbCBvtHFFc"
   },
   "outputs": [],
   "source": [
    "cities[2:9] = ['Umuahia', 'Aboekuta','Owerri']   # Modifying of item, in this case when the ratio points to a higher indexes, the other items not included in the added value will be losses\n",
    "cities"
   ]
  },
  {
   "cell_type": "code",
   "execution_count": 27,
   "id": "n4AutItYHFOx",
   "metadata": {
    "colab": {
     "base_uri": "https://localhost:8080/"
    },
    "id": "n4AutItYHFOx",
    "outputId": "da72af39-d4a3-4fe8-f297-e159d8d29a6c"
   },
   "outputs": [
    {
     "data": {
      "text/plain": [
       "['Bauchi', 'Oshogbo', 'Akure', 'Jos']"
      ]
     },
     "execution_count": 27,
     "metadata": {},
     "output_type": "execute_result"
    }
   ],
   "source": [
    "cities[2:6]"
   ]
  },
  {
   "cell_type": "code",
   "execution_count": 26,
   "id": "MjSvZo00HFVw",
   "metadata": {
    "colab": {
     "base_uri": "https://localhost:8080/"
    },
    "id": "MjSvZo00HFVw",
    "outputId": "edb8b125-c8c8-4002-b343-9e178f7ace8b"
   },
   "outputs": [
    {
     "data": {
      "text/plain": [
       "['Rome', 'Bauchi', 'Oshogbo']"
      ]
     },
     "execution_count": 26,
     "metadata": {},
     "output_type": "execute_result"
    }
   ],
   "source": [
    "cities[1:4] # retrieves item @ 1, 2, 3 and 4 index"
   ]
  },
  {
   "cell_type": "code",
   "execution_count": 24,
   "id": "0b9rpGD-HFah",
   "metadata": {
    "id": "0b9rpGD-HFah"
   },
   "outputs": [],
   "source": [
    "cities[0] = 'Enugu' # Modifying of item at index 0\n",
    "cities"
   ]
  },
  {
   "cell_type": "code",
   "execution_count": 25,
   "id": "pOLvmJIlHFjJ",
   "metadata": {
    "colab": {
     "base_uri": "https://localhost:8080/"
    },
    "id": "pOLvmJIlHFjJ",
    "outputId": "ce372832-0e4e-47a8-c27d-77f8d3facecc"
   },
   "outputs": [
    {
     "data": {
      "text/plain": [
       "['city', 'State', 'Kano']"
      ]
     },
     "execution_count": 25,
     "metadata": {},
     "output_type": "execute_result"
    }
   ],
   "source": [
    "cities[9:12] # retrieves item @ 9, 10 and 11 index"
   ]
  },
  {
   "cell_type": "markdown",
   "id": "b1ec0e87-6f0e-4e14-8234-661d3d5df34e",
   "metadata": {
    "id": "b1ec0e87-6f0e-4e14-8234-661d3d5df34e"
   },
   "source": [
    "<h3 style=\"color: blue\">pop method</h3>"
   ]
  },
  {
   "cell_type": "code",
   "execution_count": null,
   "id": "4deeb2d1-37ac-493c-b30d-94254f6cfb6e",
   "metadata": {
    "id": "4deeb2d1-37ac-493c-b30d-94254f6cfb6e"
   },
   "outputs": [],
   "source": [
    "# The pop method is used to remove an item from a list, it can accept argument(an index) or with an argument to remove the last item in the list\n",
    "cities.pop() # it removes the last item in the list"
   ]
  },
  {
   "cell_type": "code",
   "execution_count": null,
   "id": "_3wwwzmaRzH1",
   "metadata": {
    "id": "_3wwwzmaRzH1"
   },
   "outputs": [],
   "source": [
    "cities.pop(4) # it removes the item list with the index 4 and print the removed item"
   ]
  },
  {
   "cell_type": "code",
   "execution_count": null,
   "id": "RDFvV3hIRvvK",
   "metadata": {
    "id": "RDFvV3hIRvvK"
   },
   "outputs": [],
   "source": [
    "cities.pop() # it removes the last item in the list and print the removed item"
   ]
  },
  {
   "cell_type": "code",
   "execution_count": null,
   "id": "yvuVzpinRvzu",
   "metadata": {
    "id": "yvuVzpinRvzu"
   },
   "outputs": [],
   "source": [
    "cities.pop() # it removes the last item in the list and print the removed item"
   ]
  },
  {
   "cell_type": "code",
   "execution_count": null,
   "id": "y0-NiqkGRv3y",
   "metadata": {
    "id": "y0-NiqkGRv3y"
   },
   "outputs": [],
   "source": [
    "cities.pop() # it removes the last item in the list and print the removed item"
   ]
  },
  {
   "cell_type": "code",
   "execution_count": null,
   "id": "X4QzH17pSr1S",
   "metadata": {
    "id": "X4QzH17pSr1S"
   },
   "outputs": [],
   "source": [
    "cities.pop(8) # it removes the item list with the index 8 and print the removed item"
   ]
  },
  {
   "cell_type": "code",
   "execution_count": null,
   "id": "iqqoGVLNRv8h",
   "metadata": {
    "id": "iqqoGVLNRv8h"
   },
   "outputs": [],
   "source": [
    "cities.pop() # it removes the last item in the list and print the removed item"
   ]
  },
  {
   "cell_type": "code",
   "execution_count": null,
   "id": "UH7RkobkRwDl",
   "metadata": {
    "id": "UH7RkobkRwDl"
   },
   "outputs": [],
   "source": [
    "cities.pop() # it removes the last item in the list and print the removed item"
   ]
  },
  {
   "cell_type": "code",
   "execution_count": null,
   "id": "p5IqjC6MS8hh",
   "metadata": {
    "id": "p5IqjC6MS8hh"
   },
   "outputs": [],
   "source": [
    "cities.pop(2) # it removes the item list with the index 2 and print the removed item"
   ]
  },
  {
   "cell_type": "code",
   "execution_count": 33,
   "id": "5PO0EBHeTJYg",
   "metadata": {
    "colab": {
     "base_uri": "https://localhost:8080/",
     "height": 35
    },
    "id": "5PO0EBHeTJYg",
    "outputId": "d84472c7-b0a2-4e4a-f04e-7d4b6b6016a8"
   },
   "outputs": [
    {
     "data": {
      "application/vnd.google.colaboratory.intrinsic+json": {
       "type": "string"
      },
      "text/plain": [
       "'Dhaka'"
      ]
     },
     "execution_count": 33,
     "metadata": {},
     "output_type": "execute_result"
    }
   ],
   "source": [
    "cities.pop() # it removes the last item in the list and print the removed item"
   ]
  },
  {
   "cell_type": "markdown",
   "id": "HoIKR2GUY_oA",
   "metadata": {
    "id": "HoIKR2GUY_oA"
   },
   "source": [
    "<h3 style=\"color: blue\">remove method</h3>"
   ]
  },
  {
   "cell_type": "code",
   "execution_count": null,
   "id": "Nlq5Gn0ZY-LG",
   "metadata": {
    "id": "Nlq5Gn0ZY-LG"
   },
   "outputs": [],
   "source": [
    "# The remove method is used to remove an item from a list, it accepts string argument(The item you want to remove), if the argument entered does not exist, it will throw an error\n",
    "cities.remove('Kano') # this removes the item Kano from the list\n",
    "cities"
   ]
  },
  {
   "cell_type": "code",
   "execution_count": null,
   "id": "3G-S2KYqwR_N",
   "metadata": {
    "id": "3G-S2KYqwR_N"
   },
   "outputs": [],
   "source": [
    "cities.remove('Bauchi') # this removes the item Bauchi from the list\n",
    "cities"
   ]
  },
  {
   "cell_type": "code",
   "execution_count": null,
   "id": "ogC0QnQBZN6F",
   "metadata": {
    "id": "ogC0QnQBZN6F"
   },
   "outputs": [],
   "source": [
    "cities.remove('Dhaka') # this removes the item Dhaka from the list\n",
    "cities"
   ]
  },
  {
   "cell_type": "code",
   "execution_count": null,
   "id": "DU4rCXJrZOLy",
   "metadata": {
    "id": "DU4rCXJrZOLy"
   },
   "outputs": [],
   "source": [
    "cities.remove('Rome') # this removes the item Rome from the list\n",
    "cities"
   ]
  },
  {
   "cell_type": "code",
   "execution_count": null,
   "id": "sFLsrms1ZOPe",
   "metadata": {
    "id": "sFLsrms1ZOPe"
   },
   "outputs": [],
   "source": [
    "cities.remove('Akure') # this removes the item Akure from the list\n",
    "cities"
   ]
  },
  {
   "cell_type": "code",
   "execution_count": null,
   "id": "hTGz3EeUZOa3",
   "metadata": {
    "id": "hTGz3EeUZOa3"
   },
   "outputs": [],
   "source": [
    "cities.remove('Benin') # this removes the item Benin from the list\n",
    "cities"
   ]
  },
  {
   "cell_type": "code",
   "execution_count": null,
   "id": "yPACGXGTY-Y1",
   "metadata": {
    "id": "yPACGXGTY-Y1"
   },
   "outputs": [],
   "source": [
    "cities.remove('Oshogbo') # this removes the item Oshogbo from the list\n",
    "cities"
   ]
  },
  {
   "cell_type": "code",
   "execution_count": null,
   "id": "4eNW3IH9Y-be",
   "metadata": {
    "id": "4eNW3IH9Y-be"
   },
   "outputs": [],
   "source": [
    "cities.remove('Abuja') # this removes the item Abuja from the list\n",
    "cities"
   ]
  },
  {
   "cell_type": "code",
   "execution_count": null,
   "id": "HgucncX9Y-el",
   "metadata": {
    "id": "HgucncX9Y-el"
   },
   "outputs": [],
   "source": [
    "cities.remove('Enugu') # this removes the item Enugu from the list\n",
    "cities"
   ]
  },
  {
   "cell_type": "markdown",
   "id": "af3fd1f6-e90b-4e15-9ba9-ab545bc09c66",
   "metadata": {
    "id": "af3fd1f6-e90b-4e15-9ba9-ab545bc09c66"
   },
   "source": [
    "<h3 style=\"color: blue\">clear method</h3>"
   ]
  },
  {
   "cell_type": "code",
   "execution_count": 4,
   "id": "bfbb8955-522e-452d-aa02-fbe2830b909c",
   "metadata": {
    "id": "bfbb8955-522e-452d-aa02-fbe2830b909c"
   },
   "outputs": [
    {
     "name": "stdout",
     "output_type": "stream",
     "text": [
      "['Blue', 'Red', 'Black']\n"
     ]
    },
    {
     "data": {
      "text/plain": [
       "[]"
      ]
     },
     "execution_count": 4,
     "metadata": {},
     "output_type": "execute_result"
    }
   ],
   "source": [
    "# Clear method, clears the item(s) in the list, leaving the list empty\n",
    "colors = ['Blue', 'Red', 'Black']\n",
    "print(colors)\n",
    "colors.clear(); #it  clears the item in the list\n",
    "colors"
   ]
  },
  {
   "cell_type": "code",
   "execution_count": null,
   "id": "DapKQqfYTqIB",
   "metadata": {
    "id": "DapKQqfYTqIB"
   },
   "outputs": [],
   "source": [
    "num = [2,6,7,5]\n",
    "num.clear(); #it  clears the item in the list\n",
    "num"
   ]
  },
  {
   "cell_type": "code",
   "execution_count": null,
   "id": "8cgNQuQoTqL_",
   "metadata": {
    "id": "8cgNQuQoTqL_"
   },
   "outputs": [],
   "source": [
    "Animals = ['Cat', 'Dog', 'Goat']\n",
    "Animals.clear(); #it  clears the item in the list\n",
    "Animals"
   ]
  },
  {
   "cell_type": "code",
   "execution_count": null,
   "id": "MgF1VYUeTqf1",
   "metadata": {
    "id": "MgF1VYUeTqf1"
   },
   "outputs": [],
   "source": [
    "add_num = 4 + 56\n",
    "add_num.clear(); #it clears the item in the list\n",
    "add_num"
   ]
  },
  {
   "cell_type": "code",
   "execution_count": null,
   "id": "Qzl-QG5xTqnw",
   "metadata": {
    "id": "Qzl-QG5xTqnw"
   },
   "outputs": [],
   "source": [
    "sub_num = 8-3\n",
    "sub_num.clear() #it clears the item in the list"
   ]
  },
  {
   "cell_type": "code",
   "execution_count": null,
   "id": "_umSsGoGTqx3",
   "metadata": {
    "id": "_umSsGoGTqx3"
   },
   "outputs": [],
   "source": [
    "div_num = 18-3\n",
    "div_num.clear() #it clears the item in the list\n",
    "div_num"
   ]
  },
  {
   "cell_type": "code",
   "execution_count": null,
   "id": "DFywU9Z9Tq8Z",
   "metadata": {
    "id": "DFywU9Z9Tq8Z"
   },
   "outputs": [],
   "source": [
    "mod_num = 18%3\n",
    "mod_num.clear() #it clears the item in the list\n",
    "mod_num"
   ]
  },
  {
   "cell_type": "markdown",
   "id": "e1e9a332-0d53-4cf2-a2d6-4d93c1f3ff91",
   "metadata": {
    "id": "e1e9a332-0d53-4cf2-a2d6-4d93c1f3ff91"
   },
   "source": [
    "<h3 style=\"color: blue\">sort method</h3>"
   ]
  },
  {
   "cell_type": "code",
   "execution_count": null,
   "id": "8e2e5573-8771-4297-ae78-87534a969532",
   "metadata": {
    "id": "8e2e5573-8771-4297-ae78-87534a969532"
   },
   "outputs": [],
   "source": [
    "# sort method rearranges the order of the item, either by ascending or descending order, case of character are identified here.\n",
    "cities.sort() #this sort them in an ascending order(A-Z)\n",
    "cities"
   ]
  },
  {
   "cell_type": "code",
   "execution_count": null,
   "id": "Gapcp6gsa9QB",
   "metadata": {
    "id": "Gapcp6gsa9QB"
   },
   "outputs": [],
   "source": [
    "cities.sort(reverse = True) #this sort them in an descending order(Z-A)\n",
    "cities"
   ]
  },
  {
   "cell_type": "code",
   "execution_count": null,
   "id": "UVxkqtUka9cZ",
   "metadata": {
    "id": "UVxkqtUka9cZ"
   },
   "outputs": [],
   "source": [
    "Animals = ['Zebra','Cat', 'Dog', 'Goat']\n",
    "Animals.sort() #this sort them in an ascending order(A-Z)\n",
    "Animals"
   ]
  },
  {
   "cell_type": "code",
   "execution_count": null,
   "id": "1SRgYuc-a9fm",
   "metadata": {
    "id": "1SRgYuc-a9fm"
   },
   "outputs": [],
   "source": [
    "num = [9, 5, 6, 4, 10, 1, 3, 7, 2, 8]\n",
    "num.sort() #this sort them in an ascending order(1 - 10)\n",
    "num"
   ]
  },
  {
   "cell_type": "code",
   "execution_count": null,
   "id": "jEl9DGjya9j5",
   "metadata": {
    "id": "jEl9DGjya9j5"
   },
   "outputs": [],
   "source": [
    "num.sort(reverse = True) #this sort them in an descending order(10 - 1)\n",
    "num"
   ]
  },
  {
   "cell_type": "code",
   "execution_count": null,
   "id": "chsFEkdMa9mo",
   "metadata": {
    "id": "chsFEkdMa9mo"
   },
   "outputs": [],
   "source": [
    "colour = ['Blue', 'Red', 'Black', 'Green']\n",
    "colour.sort(); # this sort them in an ascending order(A-Z)\n",
    "colour"
   ]
  },
  {
   "cell_type": "code",
   "execution_count": null,
   "id": "3j44jPPNa9qL",
   "metadata": {
    "id": "3j44jPPNa9qL"
   },
   "outputs": [],
   "source": [
    "colour.sort(reverse = True); #this sort them in an descending order(Z-A)\n",
    "colour"
   ]
  },
  {
   "cell_type": "code",
   "execution_count": null,
   "id": "7TF_54TFa9tf",
   "metadata": {
    "id": "7TF_54TFa9tf"
   },
   "outputs": [],
   "source": [
    "bool_val = [True, False, True]\n",
    "bool_val.sort() # this sort them in an ascending order(A-Z)\n",
    "bool_val"
   ]
  },
  {
   "cell_type": "code",
   "execution_count": null,
   "id": "OK3PpjrYgwr4",
   "metadata": {
    "id": "OK3PpjrYgwr4"
   },
   "outputs": [],
   "source": [
    "bool_val.sort() # this sort them in an descending order(Z-A)\n",
    "bool_val"
   ]
  },
  {
   "cell_type": "code",
   "execution_count": null,
   "id": "Lflkp1Lza9w3",
   "metadata": {
    "id": "Lflkp1Lza9w3"
   },
   "outputs": [],
   "source": [
    "state_val = ['Lagos', 'Delta', 'Kwara', 'Uyo']\n",
    "state_val.sort() # this sort them in an ascending order(A-Z)\n",
    "state_val"
   ]
  },
  {
   "cell_type": "markdown",
   "id": "231961fc-f521-4cc3-9ad1-134d9d24caca",
   "metadata": {
    "id": "231961fc-f521-4cc3-9ad1-134d9d24caca"
   },
   "source": [
    "<h3 style=\"color: blue\">reverse method</h3>"
   ]
  },
  {
   "cell_type": "code",
   "execution_count": null,
   "id": "44234ef6-bc2d-478d-a192-a1f3f9cbb486",
   "metadata": {
    "id": "44234ef6-bc2d-478d-a192-a1f3f9cbb486"
   },
   "outputs": [],
   "source": [
    "# the reverse method, reverse whatever order that has been given to a list of item\n",
    "print(cities)\n",
    "cities.reverse() # reverse the order of the items in the list\n",
    "cities"
   ]
  },
  {
   "cell_type": "code",
   "execution_count": null,
   "id": "pKzLLp8HnBm4",
   "metadata": {
    "id": "pKzLLp8HnBm4"
   },
   "outputs": [],
   "source": [
    "print(state_val)\n",
    "state_val.reverse() # reverse the order of the items in the list\n",
    "state_val"
   ]
  },
  {
   "cell_type": "code",
   "execution_count": null,
   "id": "389853e1-cba2-4810-b191-a09b523d9e61",
   "metadata": {},
   "outputs": [],
   "source": [
    "print(bool_val)\n",
    "bool_val.reverse() # reverse the order of the items in the list\n",
    "bool_val"
   ]
  },
  {
   "cell_type": "code",
   "execution_count": null,
   "id": "99ee2baf-b083-4b93-a521-824b197025d6",
   "metadata": {},
   "outputs": [],
   "source": [
    "print(colour)\n",
    "colour.reverse() # reverse the order of the items in the list\n",
    "colour"
   ]
  },
  {
   "cell_type": "code",
   "execution_count": null,
   "id": "a689ce8e-6c4f-44cb-aa9d-68123afaf460",
   "metadata": {},
   "outputs": [],
   "source": [
    "print(num)\n",
    "num.reverse() # reverse the order of the items in the list\n",
    "num"
   ]
  },
  {
   "cell_type": "code",
   "execution_count": null,
   "id": "8b2b3c42-a7f4-4044-b47a-5aca0a8c895e",
   "metadata": {},
   "outputs": [],
   "source": [
    "print(Animals)\n",
    "Animals.reverse() # reverse the order of the items in the list\n",
    "Animals"
   ]
  },
  {
   "cell_type": "code",
   "execution_count": null,
   "id": "9591f5af-7994-4f62-9219-b9793ee6270a",
   "metadata": {},
   "outputs": [],
   "source": [
    "items = ['Table', 'Chair', True, False, 'Book']\n",
    "print(items)\n",
    "items.reverse() # reverse the order of the items in the list\n",
    "items"
   ]
  },
  {
   "cell_type": "code",
   "execution_count": null,
   "id": "9a328bd2-6cf7-4aab-942a-576364f61fee",
   "metadata": {},
   "outputs": [],
   "source": [
    "faculty = ['Engineering', 'Social Sciences']\n",
    "print(faculty)\n",
    "faculty.reverse() # reverse the order of the items in the list\n",
    "faculty"
   ]
  },
  {
   "cell_type": "code",
   "execution_count": null,
   "id": "aa5a7e31-b5dd-4f66-9ff1-27e6266d10d5",
   "metadata": {},
   "outputs": [],
   "source": [
    "country = ['America', 'Russia', 'Germany']\n",
    "print(country)\n",
    "country.reverse() # reverse the order of the items in the list\n",
    "country"
   ]
  },
  {
   "cell_type": "code",
   "execution_count": 5,
   "id": "0f6265f6-dd17-413e-98d6-f7bf3d62deae",
   "metadata": {},
   "outputs": [
    {
     "name": "stdout",
     "output_type": "stream",
     "text": [
      "['Blue', 'Red', 'Black']\n"
     ]
    },
    {
     "data": {
      "text/plain": [
       "['Black', 'Red', 'Blue']"
      ]
     },
     "execution_count": 5,
     "metadata": {},
     "output_type": "execute_result"
    }
   ],
   "source": [
    "colors = ['Blue', 'Red', 'Black']\n",
    "print(colors)\n",
    "colors.reverse() # reverse the order of the items in the list\n",
    "colors"
   ]
  },
  {
   "cell_type": "markdown",
   "id": "5a05989a-db09-4d7d-89b9-6b3e6dc514e0",
   "metadata": {
    "id": "5a05989a-db09-4d7d-89b9-6b3e6dc514e0"
   },
   "source": [
    "<h3 style=\"color: blue\">copy method</h3>"
   ]
  },
  {
   "cell_type": "code",
   "execution_count": null,
   "id": "17ae6145-70b0-4bff-9f0c-2a636c4bb9bf",
   "metadata": {
    "id": "17ae6145-70b0-4bff-9f0c-2a636c4bb9bf"
   },
   "outputs": [],
   "source": [
    "# copy method is used to copy the content of a list, to a new variable\n",
    "list_cities = cities.copy() #Copy the content from cities, then assign it to list_cities\n",
    "list_cities"
   ]
  },
  {
   "cell_type": "code",
   "execution_count": null,
   "id": "N34RJq2GxL0f",
   "metadata": {
    "id": "N34RJq2GxL0f"
   },
   "outputs": [],
   "source": [
    "new_animal = Animals.copy() #Copy the content from Animals, then assign it to new_animal\n",
    "new_animal"
   ]
  },
  {
   "cell_type": "code",
   "execution_count": null,
   "id": "mTmEvbfmxL9V",
   "metadata": {
    "id": "mTmEvbfmxL9V"
   },
   "outputs": [],
   "source": [
    "new_state = state_val.copy() #Copy the content from state_val, then assign it to new_state\n",
    "new_state"
   ]
  },
  {
   "cell_type": "code",
   "execution_count": null,
   "id": "9XKclokvxMGK",
   "metadata": {
    "id": "9XKclokvxMGK"
   },
   "outputs": [],
   "source": [
    "new_bool = bool_val.copy() #Copy the content from bool_val, then assign it to new_state\n",
    "new_bool"
   ]
  },
  {
   "cell_type": "code",
   "execution_count": null,
   "id": "XE84ZC3XxMPv",
   "metadata": {
    "id": "XE84ZC3XxMPv"
   },
   "outputs": [],
   "source": [
    "new_colour = colour.copy() #Copy the content from colour, then assign it to new_colour\n",
    "new_colour"
   ]
  },
  {
   "cell_type": "code",
   "execution_count": null,
   "id": "4fyfz2BCxMlG",
   "metadata": {
    "id": "4fyfz2BCxMlG"
   },
   "outputs": [],
   "source": [
    "new_num = num.copy() #Copy the content from num, then assign it to new_num\n",
    "new_num"
   ]
  },
  {
   "cell_type": "code",
   "execution_count": null,
   "id": "xVxfw0ZF0HH7",
   "metadata": {
    "id": "xVxfw0ZF0HH7"
   },
   "outputs": [],
   "source": [
    "new_country = country.copy() #Copy the content from country, then assign it to new_country\n",
    "new country"
   ]
  },
  {
   "cell_type": "code",
   "execution_count": null,
   "id": "fOQiEzuW0HVe",
   "metadata": {
    "id": "fOQiEzuW0HVe"
   },
   "outputs": [],
   "source": [
    "new_items = items.copy() #Copy the content from items, then assign it to new_items\n",
    "new_items"
   ]
  },
  {
   "cell_type": "code",
   "execution_count": 6,
   "id": "jlTNcHHY0HeC",
   "metadata": {
    "id": "jlTNcHHY0HeC"
   },
   "outputs": [
    {
     "data": {
      "text/plain": [
       "['Black', 'Red', 'Blue']"
      ]
     },
     "execution_count": 6,
     "metadata": {},
     "output_type": "execute_result"
    }
   ],
   "source": [
    "new_colors = colors.copy() #Copy the content from colors, then assign it to new_colors\n",
    "new_colors"
   ]
  },
  {
   "cell_type": "code",
   "execution_count": 59,
   "id": "qa1n1ce80JfD",
   "metadata": {
    "colab": {
     "base_uri": "https://localhost:8080/"
    },
    "id": "qa1n1ce80JfD",
    "outputId": "a813c6b6-e3cd-430a-9c1b-f43fa4a13b61"
   },
   "outputs": [
    {
     "data": {
      "text/plain": [
       "['Engineering', 'Social Sciences']"
      ]
     },
     "execution_count": 59,
     "metadata": {},
     "output_type": "execute_result"
    }
   ],
   "source": [
    "new_faculty = faculty.copy() # Copy the content from faculty, then assign it to new_faculty\n",
    "faculty.insert(1, 'Management Science')\n",
    "new_faculty # it shows that whatever happens to the original list, will not affect the copy of the list"
   ]
  }
 ],
 "metadata": {
  "colab": {
   "provenance": []
  },
  "kernelspec": {
   "display_name": "Python 3 (ipykernel)",
   "language": "python",
   "name": "python3"
  },
  "language_info": {
   "codemirror_mode": {
    "name": "ipython",
    "version": 3
   },
   "file_extension": ".py",
   "mimetype": "text/x-python",
   "name": "python",
   "nbconvert_exporter": "python",
   "pygments_lexer": "ipython3",
   "version": "3.11.5"
  }
 },
 "nbformat": 4,
 "nbformat_minor": 5
}
